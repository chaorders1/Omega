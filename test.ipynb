{
 "cells": [
  {
   "cell_type": "code",
   "execution_count": 5,
   "metadata": {},
   "outputs": [
    {
     "data": {
      "text/plain": [
       "('output.png', <http.client.HTTPMessage at 0x11b5fb470>)"
      ]
     },
     "execution_count": 5,
     "metadata": {},
     "output_type": "execute_result"
    }
   ],
   "source": [
    "#!/usr/bin/python3\n",
    "import urllib.request\n",
    "import urllib.parse\n",
    "\n",
    "def generate_screenshot_api_url(token, options):\n",
    "  api_url = 'https://api.pikwy.com/?token=' + token\n",
    "  if token:\n",
    "    api_url = api_url + '&url=' + options.get('url')\n",
    "    api_url = api_url + '&width=' + options.get('width')\n",
    "    api_url = api_url + '&height=' + options.get('height')\n",
    "    api_url = api_url + '&response_type=' + options.get('response_type')\n",
    "  return api_url;\n",
    "\n",
    "token = 'f2dc3909dea46d918856ec0144a425b975fb52dd58b20d09'\n",
    "options = {\n",
    "  'url': 'https://www.youtube.com/@wangzhian/videos',\n",
    "  'width': '1280',\n",
    "  'height': '2000',\n",
    "  'response_type': 'image'\n",
    "  }\n",
    "\n",
    "api_url = generate_screenshot_api_url(token, options)\n",
    "\n",
    "#\n",
    "opener = urllib.request.build_opener()\n",
    "urllib.request.install_opener(opener)\n",
    "output = 'output.png'\n",
    "urllib.request.urlretrieve(api_url, output)"
   ]
  },
  {
   "cell_type": "code",
   "execution_count": null,
   "metadata": {},
   "outputs": [],
   "source": []
  }
 ],
 "metadata": {
  "kernelspec": {
   "display_name": "Python 3",
   "language": "python",
   "name": "python3"
  },
  "language_info": {
   "codemirror_mode": {
    "name": "ipython",
    "version": 3
   },
   "file_extension": ".py",
   "mimetype": "text/x-python",
   "name": "python",
   "nbconvert_exporter": "python",
   "pygments_lexer": "ipython3",
   "version": "3.12.4"
  }
 },
 "nbformat": 4,
 "nbformat_minor": 2
}
